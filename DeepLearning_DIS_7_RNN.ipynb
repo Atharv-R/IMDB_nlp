{
 "cells": [
  {
   "cell_type": "code",
   "execution_count": null,
   "metadata": {
    "id": "LVp-USr1OA14"
   },
   "outputs": [],
   "source": [
    "from google.colab import drive\n",
    "import os\n",
    "drive.mount('/content/drive')\n",
    "work_pth = '/content/drive/MyDrive/Lab 2025/Lab7'\n",
    "os.chdir(work_pth) # customize this line to your working directory"
   ]
  },
  {
   "cell_type": "markdown",
   "metadata": {
    "id": "ZM2YdQtLaxxa"
   },
   "source": [
    "\n",
    "We will use ISLP package to load the IMDB dataset.\n",
    "The packages will have to be reinstalled each time a new runtime is started. For most labs, inserting pip install ISLP at the top of the notebook will suffice, though Colab will ask you to restart after installation."
   ]
  },
  {
   "cell_type": "code",
   "execution_count": 1,
   "metadata": {
    "id": "hMwjljGVBSyj"
   },
   "outputs": [
    {
     "name": "stdout",
     "output_type": "stream",
     "text": [
      "Requirement already satisfied: ISLP in c:\\users\\atharv\\appdata\\roaming\\python\\python312\\site-packages (0.4.0)\n",
      "Requirement already satisfied: numpy>=1.7.1 in c:\\users\\atharv\\.conda\\envs\\pt\\lib\\site-packages (from ISLP) (2.0.1)\n",
      "Requirement already satisfied: scipy>=0.9 in c:\\users\\atharv\\appdata\\roaming\\python\\python312\\site-packages (from ISLP) (1.11.4)\n",
      "Requirement already satisfied: pandas>=0.20 in c:\\users\\atharv\\.conda\\envs\\pt\\lib\\site-packages (from ISLP) (2.2.3)\n",
      "Collecting lxml (from ISLP)\n",
      "  Downloading lxml-5.3.1-cp312-cp312-win_amd64.whl.metadata (3.8 kB)\n",
      "Collecting scikit-learn>=1.2 (from ISLP)\n",
      "  Downloading scikit_learn-1.6.1-cp312-cp312-win_amd64.whl.metadata (15 kB)\n",
      "Collecting joblib (from ISLP)\n",
      "  Downloading joblib-1.4.2-py3-none-any.whl.metadata (5.4 kB)\n",
      "Requirement already satisfied: statsmodels>=0.13 in c:\\users\\atharv\\.conda\\envs\\pt\\lib\\site-packages (from ISLP) (0.14.4)\n",
      "Requirement already satisfied: lifelines in c:\\users\\atharv\\appdata\\roaming\\python\\python312\\site-packages (from ISLP) (0.30.0)\n",
      "Requirement already satisfied: pygam in c:\\users\\atharv\\appdata\\roaming\\python\\python312\\site-packages (from ISLP) (0.9.1)\n",
      "Requirement already satisfied: torch in c:\\users\\atharv\\.conda\\envs\\pt\\lib\\site-packages (from ISLP) (2.5.1)\n",
      "Requirement already satisfied: pytorch-lightning in c:\\users\\atharv\\appdata\\roaming\\python\\python312\\site-packages (from ISLP) (2.5.0.post0)\n",
      "Requirement already satisfied: torchmetrics in c:\\users\\atharv\\appdata\\roaming\\python\\python312\\site-packages (from ISLP) (1.6.2)\n",
      "Requirement already satisfied: python-dateutil>=2.8.2 in c:\\users\\atharv\\.conda\\envs\\pt\\lib\\site-packages (from pandas>=0.20->ISLP) (2.9.0.post0)\n",
      "Requirement already satisfied: pytz>=2020.1 in c:\\users\\atharv\\.conda\\envs\\pt\\lib\\site-packages (from pandas>=0.20->ISLP) (2024.1)\n",
      "Requirement already satisfied: tzdata>=2022.7 in c:\\users\\atharv\\.conda\\envs\\pt\\lib\\site-packages (from pandas>=0.20->ISLP) (2023.3)\n",
      "Collecting threadpoolctl>=3.1.0 (from scikit-learn>=1.2->ISLP)\n",
      "  Downloading threadpoolctl-3.5.0-py3-none-any.whl.metadata (13 kB)\n",
      "Collecting numpy>=1.7.1 (from ISLP)\n",
      "  Downloading numpy-1.26.4-cp312-cp312-win_amd64.whl.metadata (61 kB)\n",
      "Requirement already satisfied: patsy>=0.5.6 in c:\\users\\atharv\\.conda\\envs\\pt\\lib\\site-packages (from statsmodels>=0.13->ISLP) (1.0.1)\n",
      "Requirement already satisfied: packaging>=21.3 in c:\\users\\atharv\\.conda\\envs\\pt\\lib\\site-packages (from statsmodels>=0.13->ISLP) (24.2)\n",
      "Requirement already satisfied: matplotlib>=3.0 in c:\\users\\atharv\\.conda\\envs\\pt\\lib\\site-packages (from lifelines->ISLP) (3.10.0)\n",
      "Requirement already satisfied: autograd>=1.5 in c:\\users\\atharv\\appdata\\roaming\\python\\python312\\site-packages (from lifelines->ISLP) (1.7.0)\n",
      "Requirement already satisfied: autograd-gamma>=0.3 in c:\\users\\atharv\\appdata\\roaming\\python\\python312\\site-packages (from lifelines->ISLP) (0.5.0)\n",
      "Requirement already satisfied: formulaic>=0.2.2 in c:\\users\\atharv\\appdata\\roaming\\python\\python312\\site-packages (from lifelines->ISLP) (1.1.1)\n",
      "Requirement already satisfied: progressbar2<5.0.0,>=4.2.0 in c:\\users\\atharv\\appdata\\roaming\\python\\python312\\site-packages (from pygam->ISLP) (4.5.0)\n",
      "Collecting tqdm>=4.57.0 (from pytorch-lightning->ISLP)\n",
      "  Using cached tqdm-4.67.1-py3-none-any.whl.metadata (57 kB)\n",
      "Requirement already satisfied: PyYAML>=5.4 in c:\\users\\atharv\\.conda\\envs\\pt\\lib\\site-packages (from pytorch-lightning->ISLP) (6.0.2)\n",
      "Requirement already satisfied: fsspec>=2022.5.0 in c:\\users\\atharv\\.conda\\envs\\pt\\lib\\site-packages (from fsspec[http]>=2022.5.0->pytorch-lightning->ISLP) (2024.12.0)\n",
      "Requirement already satisfied: typing-extensions>=4.4.0 in c:\\users\\atharv\\.conda\\envs\\pt\\lib\\site-packages (from pytorch-lightning->ISLP) (4.12.2)\n",
      "Requirement already satisfied: lightning-utilities>=0.10.0 in c:\\users\\atharv\\appdata\\roaming\\python\\python312\\site-packages (from pytorch-lightning->ISLP) (0.14.0)\n",
      "Requirement already satisfied: filelock in c:\\users\\atharv\\.conda\\envs\\pt\\lib\\site-packages (from torch->ISLP) (3.13.1)\n",
      "Requirement already satisfied: setuptools in c:\\users\\atharv\\.conda\\envs\\pt\\lib\\site-packages (from torch->ISLP) (75.8.0)\n",
      "Collecting sympy==1.13.1 (from torch->ISLP)\n",
      "  Downloading sympy-1.13.1-py3-none-any.whl.metadata (12 kB)\n",
      "Requirement already satisfied: networkx in c:\\users\\atharv\\.conda\\envs\\pt\\lib\\site-packages (from torch->ISLP) (3.4.2)\n",
      "Requirement already satisfied: jinja2 in c:\\users\\atharv\\.conda\\envs\\pt\\lib\\site-packages (from torch->ISLP) (3.1.5)\n",
      "Requirement already satisfied: mpmath<1.4,>=1.1.0 in c:\\users\\atharv\\.conda\\envs\\pt\\lib\\site-packages (from sympy==1.13.1->torch->ISLP) (1.3.0)\n",
      "Requirement already satisfied: interface-meta>=1.2.0 in c:\\users\\atharv\\appdata\\roaming\\python\\python312\\site-packages (from formulaic>=0.2.2->lifelines->ISLP) (1.3.0)\n",
      "Requirement already satisfied: wrapt>=1.0 in c:\\users\\atharv\\.conda\\envs\\pt\\lib\\site-packages (from formulaic>=0.2.2->lifelines->ISLP) (1.17.0)\n",
      "Collecting aiohttp!=4.0.0a0,!=4.0.0a1 (from fsspec[http]>=2022.5.0->pytorch-lightning->ISLP)\n",
      "  Downloading aiohttp-3.11.13-cp312-cp312-win_amd64.whl.metadata (8.0 kB)\n",
      "Requirement already satisfied: contourpy>=1.0.1 in c:\\users\\atharv\\.conda\\envs\\pt\\lib\\site-packages (from matplotlib>=3.0->lifelines->ISLP) (1.3.1)\n",
      "Requirement already satisfied: cycler>=0.10 in c:\\users\\atharv\\.conda\\envs\\pt\\lib\\site-packages (from matplotlib>=3.0->lifelines->ISLP) (0.11.0)\n",
      "Requirement already satisfied: fonttools>=4.22.0 in c:\\users\\atharv\\.conda\\envs\\pt\\lib\\site-packages (from matplotlib>=3.0->lifelines->ISLP) (4.55.3)\n",
      "Requirement already satisfied: kiwisolver>=1.3.1 in c:\\users\\atharv\\.conda\\envs\\pt\\lib\\site-packages (from matplotlib>=3.0->lifelines->ISLP) (1.4.8)\n",
      "Requirement already satisfied: pillow>=8 in c:\\users\\atharv\\.conda\\envs\\pt\\lib\\site-packages (from matplotlib>=3.0->lifelines->ISLP) (11.1.0)\n",
      "Requirement already satisfied: pyparsing>=2.3.1 in c:\\users\\atharv\\.conda\\envs\\pt\\lib\\site-packages (from matplotlib>=3.0->lifelines->ISLP) (3.2.0)\n",
      "Requirement already satisfied: python-utils>=3.8.1 in c:\\users\\atharv\\appdata\\roaming\\python\\python312\\site-packages (from progressbar2<5.0.0,>=4.2.0->pygam->ISLP) (3.9.1)\n",
      "Requirement already satisfied: six>=1.5 in c:\\users\\atharv\\.conda\\envs\\pt\\lib\\site-packages (from python-dateutil>=2.8.2->pandas>=0.20->ISLP) (1.16.0)\n",
      "Requirement already satisfied: colorama in c:\\users\\atharv\\.conda\\envs\\pt\\lib\\site-packages (from tqdm>=4.57.0->pytorch-lightning->ISLP) (0.4.6)\n",
      "Requirement already satisfied: MarkupSafe>=2.0 in c:\\users\\atharv\\.conda\\envs\\pt\\lib\\site-packages (from jinja2->torch->ISLP) (3.0.2)\n",
      "Collecting aiohappyeyeballs>=2.3.0 (from aiohttp!=4.0.0a0,!=4.0.0a1->fsspec[http]>=2022.5.0->pytorch-lightning->ISLP)\n",
      "  Downloading aiohappyeyeballs-2.5.0-py3-none-any.whl.metadata (5.9 kB)\n",
      "Collecting aiosignal>=1.1.2 (from aiohttp!=4.0.0a0,!=4.0.0a1->fsspec[http]>=2022.5.0->pytorch-lightning->ISLP)\n",
      "  Downloading aiosignal-1.3.2-py2.py3-none-any.whl.metadata (3.8 kB)\n",
      "Requirement already satisfied: attrs>=17.3.0 in c:\\users\\atharv\\.conda\\envs\\pt\\lib\\site-packages (from aiohttp!=4.0.0a0,!=4.0.0a1->fsspec[http]>=2022.5.0->pytorch-lightning->ISLP) (24.3.0)\n",
      "Collecting frozenlist>=1.1.1 (from aiohttp!=4.0.0a0,!=4.0.0a1->fsspec[http]>=2022.5.0->pytorch-lightning->ISLP)\n",
      "  Downloading frozenlist-1.5.0-cp312-cp312-win_amd64.whl.metadata (14 kB)\n",
      "Collecting multidict<7.0,>=4.5 (from aiohttp!=4.0.0a0,!=4.0.0a1->fsspec[http]>=2022.5.0->pytorch-lightning->ISLP)\n",
      "  Downloading multidict-6.1.0-cp312-cp312-win_amd64.whl.metadata (5.1 kB)\n",
      "Collecting propcache>=0.2.0 (from aiohttp!=4.0.0a0,!=4.0.0a1->fsspec[http]>=2022.5.0->pytorch-lightning->ISLP)\n",
      "  Downloading propcache-0.3.0-cp312-cp312-win_amd64.whl.metadata (10 kB)\n",
      "Collecting yarl<2.0,>=1.17.0 (from aiohttp!=4.0.0a0,!=4.0.0a1->fsspec[http]>=2022.5.0->pytorch-lightning->ISLP)\n",
      "  Downloading yarl-1.18.3-cp312-cp312-win_amd64.whl.metadata (71 kB)\n",
      "Requirement already satisfied: idna>=2.0 in c:\\users\\atharv\\.conda\\envs\\pt\\lib\\site-packages (from yarl<2.0,>=1.17.0->aiohttp!=4.0.0a0,!=4.0.0a1->fsspec[http]>=2022.5.0->pytorch-lightning->ISLP) (3.7)\n",
      "Downloading scikit_learn-1.6.1-cp312-cp312-win_amd64.whl (11.1 MB)\n",
      "   ---------------------------------------- 0.0/11.1 MB ? eta -:--:--\n",
      "   ----------------------- ---------------- 6.6/11.1 MB 33.5 MB/s eta 0:00:01\n",
      "   ---------------------------------------- 11.1/11.1 MB 30.2 MB/s eta 0:00:00\n",
      "Downloading joblib-1.4.2-py3-none-any.whl (301 kB)\n",
      "Downloading numpy-1.26.4-cp312-cp312-win_amd64.whl (15.5 MB)\n",
      "   ---------------------------------------- 0.0/15.5 MB ? eta -:--:--\n",
      "   ---------------- ----------------------- 6.6/15.5 MB 31.0 MB/s eta 0:00:01\n",
      "   ------------------------------- -------- 12.3/15.5 MB 29.6 MB/s eta 0:00:01\n",
      "   ---------------------------------------- 15.5/15.5 MB 27.1 MB/s eta 0:00:00\n",
      "Downloading lxml-5.3.1-cp312-cp312-win_amd64.whl (3.8 MB)\n",
      "   ---------------------------------------- 0.0/3.8 MB ? eta -:--:--\n",
      "   ---------------------------------------- 3.8/3.8 MB 22.8 MB/s eta 0:00:00\n",
      "Downloading sympy-1.13.1-py3-none-any.whl (6.2 MB)\n",
      "   ---------------------------------------- 0.0/6.2 MB ? eta -:--:--\n",
      "   ---------------------------- ----------- 4.5/6.2 MB 22.4 MB/s eta 0:00:01\n",
      "   ---------------------------------------- 6.2/6.2 MB 19.0 MB/s eta 0:00:00\n",
      "Downloading threadpoolctl-3.5.0-py3-none-any.whl (18 kB)\n",
      "Using cached tqdm-4.67.1-py3-none-any.whl (78 kB)\n",
      "Downloading aiohttp-3.11.13-cp312-cp312-win_amd64.whl (438 kB)\n",
      "Downloading aiohappyeyeballs-2.5.0-py3-none-any.whl (15 kB)\n",
      "Downloading aiosignal-1.3.2-py2.py3-none-any.whl (7.6 kB)\n",
      "Downloading frozenlist-1.5.0-cp312-cp312-win_amd64.whl (51 kB)\n",
      "Downloading multidict-6.1.0-cp312-cp312-win_amd64.whl (28 kB)\n",
      "Downloading propcache-0.3.0-cp312-cp312-win_amd64.whl (44 kB)\n",
      "Downloading yarl-1.18.3-cp312-cp312-win_amd64.whl (90 kB)\n",
      "Installing collected packages: tqdm, threadpoolctl, sympy, propcache, numpy, multidict, lxml, joblib, frozenlist, aiohappyeyeballs, yarl, aiosignal, scikit-learn, aiohttp\n",
      "  Attempting uninstall: sympy\n",
      "    Found existing installation: sympy 1.13.3\n",
      "    Uninstalling sympy-1.13.3:\n",
      "      Successfully uninstalled sympy-1.13.3\n",
      "  Attempting uninstall: numpy\n",
      "    Found existing installation: numpy 2.0.1\n",
      "    Uninstalling numpy-2.0.1:\n",
      "      Successfully uninstalled numpy-2.0.1\n",
      "Successfully installed aiohappyeyeballs-2.5.0 aiohttp-3.11.13 aiosignal-1.3.2 frozenlist-1.5.0 joblib-1.4.2 lxml-5.3.1 multidict-6.1.0 numpy-1.26.4 propcache-0.3.0 scikit-learn-1.6.1 sympy-1.13.1 threadpoolctl-3.5.0 tqdm-4.67.1 yarl-1.18.3\n"
     ]
    }
   ],
   "source": [
    "import os\n",
    "!pip install ISLP\n",
    "import ISLP"
   ]
  },
  {
   "cell_type": "code",
   "execution_count": 2,
   "metadata": {
    "id": "zOhWqZ2ihL7l"
   },
   "outputs": [],
   "source": [
    "import time\n",
    "import torch\n",
    "import torch.nn as nn\n",
    "import torch.optim as optim\n",
    "\n",
    "# Function to calculate accuracy\n",
    "def calculate_accuracy(loader, model):\n",
    "    model.eval()  # Set the model to evaluation mode\n",
    "    correct = 0\n",
    "    total = 0\n",
    "    with torch.no_grad():  # No need to track gradients\n",
    "        for data, target in loader:\n",
    "            # check if cuda is available\n",
    "            if torch.cuda.is_available():\n",
    "                data, target = data.cuda(), target.cuda()\n",
    "            output = model(data)  # Forward pass\n",
    "            _, predicted = torch.max(output.data, 1)  # Get the predicted classes\n",
    "            total += target.size(0)\n",
    "            correct += (predicted == target).sum().item()\n",
    "\n",
    "    accuracy = 100 * correct / total\n",
    "    model.train()\n",
    "    return accuracy\n",
    "\n",
    "# Define a function for training.\n",
    "def train_model(model, loss_func, num_epochs, optimizer, train_loader, test_loader):\n",
    "\n",
    "  train_loss_log = []\n",
    "  train_acc_log = []\n",
    "  test_acc_log = []\n",
    "\n",
    "  # Move model to GPU if CUDA is available\n",
    "  if torch.cuda.is_available():\n",
    "      model = model.cuda()\n",
    "  tic = time.time()\n",
    "  for epoch in range(1,num_epochs+1):\n",
    "    train_loss = 0\n",
    "    for i, data in enumerate(train_loader):\n",
    "      x, y = data\n",
    "      # check if cuda is available\n",
    "      if torch.cuda.is_available():\n",
    "        x, y = x.cuda(), y.cuda()\n",
    "      # get predicted y value from our current model\n",
    "      pred_y = model(x)\n",
    "      # calculate the loss\n",
    "      loss = loss_func(pred_y,y)\n",
    "      # Zero the gradient of the optimizer\n",
    "      optimizer.zero_grad()\n",
    "      # Backward pass: Compute gradient of the loss with respect to model parameters\n",
    "      loss.backward()\n",
    "      # update weights ar\n",
    "      optimizer.step()\n",
    "      train_loss += loss.item() * len(x)\n",
    "    # change the model to evaluation mode to calculate the test loss; We will come back to this later after learning Dropout and Batch Normalization\n",
    "    train_loss/=len(train_loader)\n",
    "    train_loss_log.append(train_loss)\n",
    "    train_acc = calculate_accuracy(train_loader, model)\n",
    "    test_acc = calculate_accuracy(test_loader, model)\n",
    "    train_acc_log.append(train_acc)\n",
    "    test_acc_log.append(test_acc)\n",
    "    print(\"Epoch {:2},  Training Loss: {:9.4f}, Training Accuracy: {:9.2f},  Test Accuracy: {:7.2f}\".format(epoch, train_loss, train_acc, test_acc))\n",
    "  toc = time.time()\n",
    "  print(\"Elapsed Time : {:7.2f}\".format(toc-tic))\n",
    "  return train_loss_log, train_acc_log, test_acc_log"
   ]
  },
  {
   "cell_type": "code",
   "execution_count": 3,
   "metadata": {
    "id": "2Nsrqb0xBjYu"
   },
   "outputs": [],
   "source": [
    "import ISLP\n",
    "import numpy as np"
   ]
  },
  {
   "cell_type": "markdown",
   "metadata": {
    "id": "JIWiSKMSlTYc"
   },
   "source": [
    "We will be using build-in functions in ISLP to preprocess the IMDB dataset.\n",
    "\n",
    "- load_tensor(), a sparse tensor version usable by torch;\n",
    "- load_sparse(), a sparse matrix version usable by sklearn, since we\n",
    "will compare with a lasso fit;\n",
    "- load_sequential(), a padded version of the original sequence representation,\n",
    "limited to the last 500 words of each review. In the preprocessing used to form these data, sequences\n",
    "were padded with 0s in the beginning if they were not long enough."
   ]
  },
  {
   "cell_type": "code",
   "execution_count": 4,
   "metadata": {
    "id": "07PDnK63BliD"
   },
   "outputs": [
    {
     "name": "stdout",
     "output_type": "stream",
     "text": [
      "Retrieving \"IMDB_S_train.tensor.gz\" from \"http://imdb.jtaylor.su.domains/jtaylor/data/\".\n"
     ]
    },
    {
     "name": "stderr",
     "output_type": "stream",
     "text": [
      "C:\\Users\\ATHARV\\AppData\\Roaming\\Python\\Python312\\site-packages\\ISLP\\torch\\imdb.py:131: FutureWarning: You are using `torch.load` with `weights_only=False` (the current default value), which uses the default pickle module implicitly. It is possible to construct malicious pickle data which will execute arbitrary code during unpickling (See https://github.com/pytorch/pytorch/blob/main/SECURITY.md#untrusted-models for more details). In a future release, the default value for `weights_only` will be flipped to `True`. This limits the functions that could be executed during unpickling. Arbitrary objects will no longer be allowed to be loaded via this mode unless they are explicitly allowlisted by the user via `torch.serialization.add_safe_globals`. We recommend you start setting `weights_only=True` for any use case where you don't have full control of the loaded file. Please open an issue on GitHub for any issues related to this experimental feature.\n",
      "  S_test) = [torch.load(_get_imdb(f'IMDB_{r}', root))\n"
     ]
    },
    {
     "name": "stdout",
     "output_type": "stream",
     "text": [
      "Retrieving \"IMDB_S_test.tensor.gz\" from \"http://imdb.jtaylor.su.domains/jtaylor/data/\".\n",
      "Retrieving \"IMDB_Y_test.npy\" from \"http://imdb.jtaylor.su.domains/jtaylor/data/\".\n",
      "Retrieving \"IMDB_Y_train.npy\" from \"http://imdb.jtaylor.su.domains/jtaylor/data/\".\n"
     ]
    },
    {
     "data": {
      "text/plain": [
       "array([   1,   14,   22,   16,   43,  530,  973, 1622, 1385,   65,  458,\n",
       "       4468])"
      ]
     },
     "execution_count": 4,
     "metadata": {},
     "output_type": "execute_result"
    }
   ],
   "source": [
    "from ISLP.torch.imdb import (load_lookup,\n",
    "                             load_tensor,\n",
    "                             load_sparse,\n",
    "                             load_sequential)\n",
    "\n",
    "(imdb_seq_train,\n",
    " imdb_seq_test) = load_sequential(root='data/imdb')\n",
    "padded_sample = np.asarray(imdb_seq_train.tensors[0][0])\n",
    "sample_review = padded_sample[padded_sample > 0]\n",
    "sample_review[:12]"
   ]
  },
  {
   "cell_type": "markdown",
   "metadata": {
    "id": "0M_wFtNHm-R5"
   },
   "source": [
    "In the IMDB dataset, the `<UNK>` and `<UNUSED>` tokens serve distinct purposes in handling vocabulary and reserved words:\n",
    "\n",
    "1. `<UNK> `(Unknown Token)\n",
    "\n",
    "Represents out-of-vocabulary (OOV) words.\n",
    "If a word is not in the predefined vocabulary (e.g., because of truncation or unseen words in the test set), it is replaced with `<UNK>`.\n",
    "Ensures that the model can still process the text, even if some words are missing.\n",
    "\n",
    "2. `<UNUSED>` Tokens\n",
    "\n",
    "These are reserved tokens that are not actively used in training but can be repurposed.\n",
    "In the IMDB dataset, token indices 3 and above are assigned to words in the dataset's vocabulary, while indices below 3 are often reserved (e.g., `<PAD>`, `<START>`, `<UNK>`).\n",
    "Some `<UNUSED>` tokens exist as placeholders for potential extensions or modifications.\n",
    "\n",
    "Why Are `<UNUSED>` Tokens There?\n",
    "\n",
    "In TensorFlow's IMDB dataset (tf.keras.datasets.imdb.load_data()), word indices are assigned dynamically based on frequency. Some indices in the vocabulary may not be assigned to any word and are marked as `<UNUSED>`.\n",
    "Developers can manually assign new meanings to these tokens if they wish to expand the vocabulary."
   ]
  },
  {
   "cell_type": "code",
   "execution_count": 5,
   "metadata": {
    "id": "DY8MK_jLK80_"
   },
   "outputs": [
    {
     "name": "stdout",
     "output_type": "stream",
     "text": [
      "Retrieving \"IMDB_word_index.pkl\" from \"http://imdb.jtaylor.su.domains/jtaylor/data/\".\n"
     ]
    },
    {
     "data": {
      "text/plain": [
       "\"<START> this film was just brilliant casting location scenery story direction everyone's really suited <UNUSED> part they played and you could just imagine being there robert <UNK> is an amazing actor and now <UNUSED> same being director <UNK> father came from <UNUSED> same scottish island as myself so i loved <UNUSED> fact there was a real connection with this film <UNUSED> witty remarks throughout <UNUSED> film were great it was just brilliant so much that i bought <UNUSED> film as soon as it was released for <UNK> and would recommend it to everyone to watch and <UNUSED> fly fishing was amazing really cried at <UNUSED> end it was so sad and you know what they say if you cry at a film it must have been good and this definitely was also <UNK> to <UNUSED> two little boy's that played <UNUSED> <UNK> of norman and paul they were just brilliant children are often left out of <UNUSED> <UNK> list i think because <UNUSED> stars that play them all grown up are such a big profile for <UNUSED> whole film but these children are amazing and should be praised for what they have done don't you think <UNUSED> whole story was so lovely because it was true and was someone's life after all that was shared with us all\""
      ]
     },
     "execution_count": 5,
     "metadata": {},
     "output_type": "execute_result"
    }
   ],
   "source": [
    "lookup = load_lookup(root='data/IMDB')\n",
    "' '.join(lookup[i] for i in sample_review)"
   ]
  },
  {
   "cell_type": "markdown",
   "metadata": {
    "id": "wbZlyAzMbw6e"
   },
   "source": [
    "### Text Data"
   ]
  },
  {
   "cell_type": "markdown",
   "metadata": {
    "id": "_Lkr887Dbw6e"
   },
   "source": [
    "Each text sample should be length 500. We can interpret each text as a sequential input with 500 length."
   ]
  },
  {
   "cell_type": "code",
   "execution_count": 6,
   "metadata": {
    "id": "qWqPK4aXLDqV"
   },
   "outputs": [
    {
     "data": {
      "text/plain": [
       "torch.Size([500])"
      ]
     },
     "execution_count": 6,
     "metadata": {},
     "output_type": "execute_result"
    }
   ],
   "source": [
    "imdb_seq_train[1][0].shape"
   ]
  },
  {
   "cell_type": "code",
   "execution_count": 7,
   "metadata": {
    "id": "NjQOon9Ubw6f"
   },
   "outputs": [
    {
     "data": {
      "text/plain": [
       "tensor([   0,    0,    0,    0,    0,    0,    0,    0,    0,    0,    0,    0,\n",
       "           0,    0,    0,    0,    0,    0,    0,    0,    0,    0,    0,    0,\n",
       "           0,    0,    0,    0,    0,    0,    0,    0,    0,    0,    0,    0,\n",
       "           0,    0,    0,    0,    0,    0,    0,    0,    0,    0,    0,    0,\n",
       "           0,    0,    0,    0,    0,    0,    0,    0,    0,    0,    0,    0,\n",
       "           0,    0,    0,    0,    0,    0,    0,    0,    0,    0,    0,    0,\n",
       "           0,    0,    0,    0,    0,    0,    0,    0,    0,    0,    0,    0,\n",
       "           0,    0,    0,    0,    0,    0,    0,    0,    0,    0,    0,    0,\n",
       "           0,    0,    0,    0,    0,    0,    0,    0,    0,    0,    0,    0,\n",
       "           0,    0,    0,    0,    0,    0,    0,    0,    0,    0,    0,    0,\n",
       "           0,    0,    0,    0,    0,    0,    0,    0,    0,    0,    0,    0,\n",
       "           0,    0,    0,    0,    0,    0,    0,    0,    0,    0,    0,    0,\n",
       "           0,    0,    0,    0,    0,    0,    0,    0,    0,    0,    0,    0,\n",
       "           0,    0,    0,    0,    0,    0,    0,    0,    0,    0,    0,    0,\n",
       "           0,    0,    0,    0,    0,    0,    0,    0,    0,    0,    0,    0,\n",
       "           0,    0,    0,    0,    0,    0,    0,    0,    0,    0,    0,    0,\n",
       "           0,    0,    0,    0,    0,    0,    0,    0,    0,    0,    0,    0,\n",
       "           0,    0,    0,    0,    0,    0,    0,    0,    0,    0,    0,    0,\n",
       "           0,    0,    0,    0,    0,    0,    0,    0,    0,    0,    0,    0,\n",
       "           0,    0,    0,    0,    0,    0,    0,    0,    0,    0,    0,    0,\n",
       "           0,    0,    0,    0,    0,    0,    0,    0,    0,    0,    0,    0,\n",
       "           0,    0,    0,    0,    0,    0,    0,    0,    0,    0,    0,    0,\n",
       "           0,    0,    0,    0,    0,    0,    0,    0,    0,    0,    0,    0,\n",
       "           0,    0,    0,    0,    0,    0,    0,    0,    0,    0,    0,    0,\n",
       "           0,    0,    0,    0,    0,    0,    0,    0,    0,    0,    0,    0,\n",
       "           0,    0,    0,    0,    0,    0,    0,    0,    0,    0,    0,    1,\n",
       "         194, 1153,  194, 8255,   78,  228,    5,    6, 1463, 4369, 5012,  134,\n",
       "          26,    4,  715,    8,  118, 1634,   14,  394,   20,   13,  119,  954,\n",
       "         189,  102,    5,  207,  110, 3103,   21,   14,   69,  188,    8,   30,\n",
       "          23,    7,    4,  249,  126,   93,    4,  114,    9, 2300, 1523,    5,\n",
       "         647,    4,  116,    9,   35, 8163,    4,  229,    9,  340, 1322,    4,\n",
       "         118,    9,    4,  130, 4901,   19,    4, 1002,    5,   89,   29,  952,\n",
       "          46,   37,    4,  455,    9,   45,   43,   38, 1543, 1905,  398,    4,\n",
       "        1649,   26, 6853,    5,  163,   11, 3215,    2,    4, 1153,    9,  194,\n",
       "         775,    7, 8255,    2,  349, 2637,  148,  605,    2, 8003,   15,  123,\n",
       "         125,   68,    2, 6853,   15,  349,  165, 4362,   98,    5,    4,  228,\n",
       "           9,   43,    2, 1157,   15,  299,  120,    5,  120,  174,   11,  220,\n",
       "         175,  136,   50,    9, 4373,  228, 8255,    5,    2,  656,  245, 2350,\n",
       "           5,    4, 9837,  131,  152,  491,   18,    2,   32, 7464, 1212,   14,\n",
       "           9,    6,  371,   78,   22,  625,   64, 1382,    9,    8,  168,  145,\n",
       "          23,    4, 1690,   15,   16,    4, 1355,    5,   28,    6,   52,  154,\n",
       "         462,   33,   89,   78,  285,   16,  145,   95], dtype=torch.int32)"
      ]
     },
     "execution_count": 7,
     "metadata": {},
     "output_type": "execute_result"
    }
   ],
   "source": [
    "imdb_seq_train[1][0]"
   ]
  },
  {
   "cell_type": "code",
   "execution_count": 8,
   "metadata": {
    "id": "1dfmerzLbw6f"
   },
   "outputs": [
    {
     "data": {
      "text/plain": [
       "tensor(0.)"
      ]
     },
     "execution_count": 8,
     "metadata": {},
     "output_type": "execute_result"
    }
   ],
   "source": [
    "imdb_seq_train[1][1]"
   ]
  },
  {
   "cell_type": "code",
   "execution_count": 9,
   "metadata": {
    "id": "vUvZc5x5aAlJ"
   },
   "outputs": [],
   "source": [
    "# Convert the label dtype to torch.long\n",
    "\n",
    "from torch.utils.data import TensorDataset\n",
    "\n",
    "# Step 1: Extract tensors from the existing TensorDataset\n",
    "train_texts, train_labels = imdb_seq_train.tensors\n",
    "test_texts, test_labels = imdb_seq_test.tensors\n",
    "\n",
    "# Step 2: Convert the labels tensor to torch.long\n",
    "train_labels_long = train_labels.long()\n",
    "test_labels_long = test_labels.long()\n",
    "\n",
    "# Step 3: Create new TensorDataset instances with the updated labels tensor\n",
    "imdb_seq_train = TensorDataset(train_texts, train_labels_long)\n",
    "imdb_seq_test = TensorDataset(test_texts, test_labels_long)\n"
   ]
  },
  {
   "cell_type": "code",
   "execution_count": 10,
   "metadata": {
    "id": "6VUBEyJ0URBr"
   },
   "outputs": [],
   "source": [
    "from torch.utils.data import DataLoader\n",
    "\n",
    "trainloader = DataLoader(imdb_seq_train,batch_size=64,shuffle=True)\n",
    "testloader = DataLoader(imdb_seq_test, batch_size=64,shuffle=False)"
   ]
  },
  {
   "cell_type": "markdown",
   "metadata": {
    "id": "14ZeagvDvpd-"
   },
   "source": [
    "### Simple RNN Structure\n",
    "\n",
    "\n",
    "\n",
    "$$ h_t = \\sigma\\left( W_{hx} x_t + b_{xh} + W_{hh} h_{t-1} + b_{hh} \\right) $$\n",
    "\n",
    "where $x$ is the dimension of each word $x_t$, $h$ being the hidden dimension, $\\sigma$ being activation function such as ReLU or tanh\n"
   ]
  },
  {
   "cell_type": "code",
   "execution_count": 1,
   "metadata": {},
   "outputs": [],
   "source": [
    "#from IPython.display import Image\n",
    "#Image('SimpleRNN.PNG')"
   ]
  },
  {
   "cell_type": "markdown",
   "metadata": {
    "id": "gqHK8JsLbw6g"
   },
   "source": [
    "### Word Embedding\n",
    "\n",
    "Word embedding is a term used in natural language processing (NLP) to describe a set of language modeling and feature learning techniques where words or phrases from the vocabulary are mapped to vectors of real numbers in a low-dimensional space, relative to the vocabulary size. This process involves representing words in a dense vector form that captures semantic relationships and meanings.\n",
    "\n",
    "Before word embedding, the dimension of each word $x_t$ is equal to the size of the vocabulary dictionary which is 10003 in IMDB dataset. That is, we need to use one-hot encoded vector with length 10003 to represent each word. This will make our input data size to be 500 x 10003 which is quite huge. Therefore, we would like to use word embedding to reduce the dimension of each word vector. Followings are the two important things about word embedding:\n",
    "\n",
    "- Semantic Representation: Word embeddings aim to capture the semantic meaning of words, such that words with similar meanings are located close to each other in the embedding space.\n",
    "- Dimensionality Reduction: They reduce the dimensionality of the word representation compared to one-hot encoding, where the vector size equals the vocabulary size, with a single high (1) value for the word and 0s for all other words. This not only saves space but also improves computational efficiency.\n",
    "\n",
    "There are two ways to implement word embedding in our model. One is to train model by ourselves and the other is to use pre-trained embeddings such as Word2Vec or GloVe.\n",
    "In this lab, we will train the word embedding by ourselves.\n",
    "\n",
    "#### Note: Document Embedding vs Word Embedding\n",
    "\n",
    "Document embedding is to capture the overall semantic meaning of the text at a higher level than individual words or phrases. An example of a document embedding technique is the bag-of-words model, which, despite its simplicity, serves as a foundational approach by treating texts as collections of their constituent words, disregarding syntax and word order. Furthermore, document embedding can be achieved through the aggregation of word embeddings, wherein each document is perceived as a sequence of vectors in the embedded space of words."
   ]
  },
  {
   "cell_type": "code",
   "execution_count": 12,
   "metadata": {
    "id": "K6lqO4daOhar"
   },
   "outputs": [],
   "source": [
    "class SimpleRNN(nn.Module):\n",
    "    def __init__(self, vocab_size, embedding_dim, hidden_dim, nonlinearity='relu', output_dim=2):\n",
    "        super().__init__()\n",
    "        self.embedding = nn.Embedding(vocab_size, embedding_dim) # Instead of using the pre-trained embeddings, such as Word2Vec, GloVe, let us train the embedding  by ourselves.\n",
    "        self.rnn = nn.RNN(embedding_dim, hidden_dim,num_layers=1, nonlinearity=nonlinearity, batch_first=True) # We can also add dropout layers on the outputs of the RNN layers, by passing dropout argument to the RNN class\n",
    "        self.fc = nn.Linear(hidden_dim, output_dim)\n",
    "\n",
    "    def forward(self, text):\n",
    "        # text = [batch size, sent len]\n",
    "        embedded = self.embedding(text)\n",
    "        # embedded = [batch size, sent len, emb dim]\n",
    "        all_h, last_h = self.rnn(embedded)\n",
    "        # all_h = [batch size, sent len, hid dim]\n",
    "        # last_h = [1, batch size, hid dim]\n",
    "        last_h = last_h.squeeze(0)\n",
    "        # last_h = [batch size, hid dim]\n",
    "        out = self.fc(last_h)\n",
    "        return out\n"
   ]
  },
  {
   "cell_type": "code",
   "execution_count": 13,
   "metadata": {
    "id": "_K7cUvabTvWb"
   },
   "outputs": [
    {
     "name": "stdout",
     "output_type": "stream",
     "text": [
      "Epoch  1,  Training Loss:   43.4862, Training Accuracy:     62.80,  Test Accuracy:   59.91\n",
      "Epoch  2,  Training Loss:   43.4892, Training Accuracy:     66.62,  Test Accuracy:   62.46\n",
      "Epoch  3,  Training Loss:   37.7732, Training Accuracy:     70.28,  Test Accuracy:   65.62\n",
      "Epoch  4,  Training Loss:   34.1485, Training Accuracy:     77.40,  Test Accuracy:   73.67\n",
      "Epoch  5,  Training Loss:   28.8257, Training Accuracy:     80.26,  Test Accuracy:   75.79\n",
      "Epoch  6,  Training Loss:   24.7275, Training Accuracy:     86.18,  Test Accuracy:   80.93\n",
      "Epoch  7,  Training Loss:   21.5849, Training Accuracy:     88.37,  Test Accuracy:   82.66\n",
      "Epoch  8,  Training Loss:   20.4089, Training Accuracy:     89.92,  Test Accuracy:   83.37\n",
      "Epoch  9,  Training Loss:   17.5995, Training Accuracy:     86.67,  Test Accuracy:   81.14\n",
      "Epoch 10,  Training Loss:   17.4847, Training Accuracy:     90.65,  Test Accuracy:   84.13\n",
      "Epoch 11,  Training Loss:   15.3454, Training Accuracy:     92.56,  Test Accuracy:   85.18\n",
      "Epoch 12,  Training Loss:   14.4088, Training Accuracy:     93.44,  Test Accuracy:   84.81\n",
      "Epoch 13,  Training Loss:   12.5027, Training Accuracy:     94.29,  Test Accuracy:   85.20\n",
      "Epoch 14,  Training Loss:   12.4067, Training Accuracy:     91.07,  Test Accuracy:   82.52\n",
      "Epoch 15,  Training Loss:   11.4370, Training Accuracy:     94.35,  Test Accuracy:   85.17\n",
      "Epoch 16,  Training Loss:   11.1964, Training Accuracy:     94.16,  Test Accuracy:   83.80\n",
      "Epoch 17,  Training Loss:   10.6672, Training Accuracy:     92.97,  Test Accuracy:   82.38\n",
      "Epoch 18,  Training Loss:    9.6817, Training Accuracy:     96.28,  Test Accuracy:   85.41\n",
      "Epoch 19,  Training Loss:    8.0539, Training Accuracy:     96.38,  Test Accuracy:   85.17\n",
      "Epoch 20,  Training Loss:   12.5762, Training Accuracy:     95.30,  Test Accuracy:   84.27\n",
      "Elapsed Time :   59.22\n"
     ]
    }
   ],
   "source": [
    "# Hyperparameters\n",
    "VOCAB_SIZE = 10003  # 10000 words in the dictionary + <START>, <UNK>, <UNUNSED>\n",
    "EMBEDDING_DIM = 128 #32\n",
    "HIDDEN_DIM = 64 #32\n",
    "nonlinearity = 'relu'\n",
    "learning_rate = 4e-4\n",
    "epoch = 20\n",
    "# Instantiate the model\n",
    "simple_rnn_relu = SimpleRNN(VOCAB_SIZE, EMBEDDING_DIM, HIDDEN_DIM, nonlinearity=nonlinearity)\n",
    "loss_func = nn.CrossEntropyLoss()\n",
    "optimizer = optim.Adam(simple_rnn_relu.parameters(), lr=learning_rate)\n",
    "\n",
    "# test accuracy will be around 85 for smaller embedding and hidden dimensions\n",
    "train_loss_simple_rnn, train_acc_log_simple_rnn, test_acc_log_simple_rnn = train_model(simple_rnn_relu, loss_func, epoch, optimizer, trainloader, testloader)"
   ]
  },
  {
   "cell_type": "markdown",
   "metadata": {
    "id": "37hT-eDq9EXN"
   },
   "source": [
    "#### Logistic Regression with Lasso and Bag of Words Technique\n",
    "\n",
    "\n",
    "This achieves higher test accuracy than simple RNN, indicating that simple RNN is not efficient enough on processing the test data.\n",
    "\n",
    "One possible reason is the small embbeding/hidden dimensions due to computation time limit.\n",
    "\n",
    "Another is that we are not using any pretrained word embedding models, but instead training by ourselves. To obtain a good word embedding model, usually one needs a large training set. However, we are only using 25000 training samples."
   ]
  },
  {
   "cell_type": "code",
   "execution_count": 14,
   "metadata": {
    "id": "nAtFtW429H5s"
   },
   "outputs": [
    {
     "name": "stdout",
     "output_type": "stream",
     "text": [
      "Retrieving \"IMDB_X_test.npz\" from \"http://imdb.jtaylor.su.domains/jtaylor/data/\".\n",
      "Retrieving \"IMDB_X_train.npz\" from \"http://imdb.jtaylor.su.domains/jtaylor/data/\".\n",
      "(23000, 10003) (2000, 10003) (25000, 10003)\n"
     ]
    }
   ],
   "source": [
    "((X_train, Y_train),\n",
    " (X_valid, Y_valid),\n",
    " (X_test, Y_test)) = load_sparse(validation=2000,\n",
    "                                 random_state=0,\n",
    "                                 root='data/IMDB')\n",
    "print(X_train.shape, X_valid.shape, X_test.shape)"
   ]
  },
  {
   "cell_type": "code",
   "execution_count": 15,
   "metadata": {
    "id": "0usIX2bv-Mm2"
   },
   "outputs": [],
   "source": [
    "lam_max = np.abs(X_train.T * (Y_train - Y_train.mean())).max()\n",
    "# Try 50 different Lambda values\n",
    "lam_val = lam_max * np.exp(np.linspace(np.log(1),\n",
    "                                       np.log(1e-4), 50))\n"
   ]
  },
  {
   "cell_type": "code",
   "execution_count": 16,
   "metadata": {
    "id": "LX8_Pxa6-YSS"
   },
   "outputs": [],
   "source": [
    "from sklearn.linear_model import LogisticRegression\n",
    "\n",
    "logit = LogisticRegression(penalty='l1',\n",
    "                           C=1/lam_max,\n",
    "                           solver='liblinear',\n",
    "                           warm_start=True,\n",
    "                           fit_intercept=True)"
   ]
  },
  {
   "cell_type": "code",
   "execution_count": 17,
   "metadata": {
    "id": "KLS9JKGl-hIU"
   },
   "outputs": [],
   "source": [
    "coefs = []\n",
    "intercepts = []\n",
    "\n",
    "for l in lam_val:\n",
    "    logit.C = 1/l\n",
    "    logit.fit(X_train, Y_train)\n",
    "    coefs.append(logit.coef_.copy())\n",
    "    intercepts.append(logit.intercept_)"
   ]
  },
  {
   "cell_type": "code",
   "execution_count": 18,
   "metadata": {
    "id": "Pf45ezwu-lMj"
   },
   "outputs": [],
   "source": [
    "coefs = np.squeeze(coefs)\n",
    "intercepts = np.squeeze(intercepts)"
   ]
  },
  {
   "cell_type": "code",
   "execution_count": 19,
   "metadata": {
    "id": "iRRixTPE-1-B"
   },
   "outputs": [
    {
     "data": {
      "image/png": "[encoded data removed]",
      "text/plain": [
       "<Figure size 1200x800 with 1 Axes>"
      ]
     },
     "metadata": {},
     "output_type": "display_data"
    }
   ],
   "source": [
    "\n",
    "import matplotlib.pyplot as plt\n",
    "\n",
    "fig, ax = plt.subplots(figsize=(12, 8))\n",
    "for ((X_, Y_),\n",
    "     data_,\n",
    "     color) in zip([(X_train, Y_train),\n",
    "                    (X_valid, Y_valid),\n",
    "                    (X_test, Y_test)],\n",
    "                   ['Training', 'Validation', 'Test'],\n",
    "                   ['black', 'red', 'blue']):\n",
    "    linpred_ = X_ * coefs.T + intercepts[None,:]\n",
    "    label_ = np.array(linpred_ > 0)\n",
    "    accuracy_ = np.array([np.mean(Y_ == l) for l in label_.T])\n",
    "    ax.plot(-np.log(lam_val / X_train.shape[0]),\n",
    "            accuracy_,\n",
    "            '.--',\n",
    "            color=color,\n",
    "            markersize=13,\n",
    "            linewidth=2,\n",
    "            label=data_)\n",
    "    if data_ == 'Validation':\n",
    "      val_acc = accuracy_\n",
    "    elif data_ == 'Test':\n",
    "      test_acc = accuracy_\n",
    "\n",
    "ax.legend()\n",
    "ax.set_xlabel(r'$-\\log(\\lambda)$', fontsize=20)\n",
    "ax.set_ylabel('Accuracy', fontsize=20)\n",
    "plt.show()"
   ]
  },
  {
   "cell_type": "code",
   "execution_count": 20,
   "metadata": {
    "id": "Scx9q9x0Ctcj"
   },
   "outputs": [
    {
     "data": {
      "text/plain": [
       "0.87936"
      ]
     },
     "execution_count": 20,
     "metadata": {},
     "output_type": "execute_result"
    }
   ],
   "source": [
    "# Find the index of the maximum value in val_acc\n",
    "index_of_max_val_acc = np.argmax(val_acc)\n",
    "# Use this index to retrieve the corresponding value from test_acc\n",
    "log_reg_test_acc = test_acc[index_of_max_val_acc]\n",
    "log_reg_test_acc"
   ]
  },
  {
   "cell_type": "markdown",
   "metadata": {
    "id": "Wg6MmKUldIrs"
   },
   "source": [
    "### Multi-layer RNN\n",
    "\n",
    "We can also stack the RNN layers on top of other RNN layers."
   ]
  },
  {
   "cell_type": "code",
   "execution_count": null,
   "metadata": {
    "id": "tcmhhRHkdnS1"
   },
   "outputs": [],
   "source": [
    "from IPython.display import Image\n",
    "Image('DeepRNN.PNG')\n"
   ]
  },
  {
   "cell_type": "code",
   "execution_count": 21,
   "metadata": {
    "id": "08QyO_ZQT1mz"
   },
   "outputs": [],
   "source": [
    "class TwoLayerRNN(nn.Module):\n",
    "    def __init__(self, vocab_size, embedding_dim, hidden_dim1, hidden_dim2, nonlinearity='relu', output_dim=2):\n",
    "        super().__init__()\n",
    "        self.embedding = nn.Embedding(vocab_size, embedding_dim) # Instead of using the pre-trained embeddings, such as Word2Vec, GloVe, let us train the embedding  by ourselves.\n",
    "        self.rnn1 = nn.RNN(embedding_dim, hidden_dim1, num_layers=1, nonlinearity=nonlinearity,batch_first=True) # We can also add dropout layers on the outputs of the RNN layers, by passing dropout argument to the RNN class\n",
    "        self.rnn2 = nn.RNN(hidden_dim1, hidden_dim2, num_layers=1, nonlinearity=nonlinearity,batch_first=True)\n",
    "        self.fc = nn.Linear(hidden_dim2, output_dim)\n",
    "\n",
    "    def forward(self, text):\n",
    "        # text = [batch size, sent len]\n",
    "        embedded = self.embedding(text)\n",
    "        # embedded = [batch size, sent len, emb dim]\n",
    "        all_h, last_h = self.rnn1(embedded)\n",
    "        # all_h = [batch size, sent len, hid dim1]\n",
    "        # last_h = [1, batch size, hid dim1]\n",
    "        # Mini Exercise: What would be the input for self.rnn2?\n",
    "        all_h, last_h = self.rnn2(all_h)\n",
    "        # all_h = [batch size, sent len, hid dim2]\n",
    "        # last_h = [1, batch size, hid dim2]\n",
    "        last_h = last_h.squeeze(0)\n",
    "        # hidden = [batch size, hid dim]\n",
    "        out = self.fc(last_h)\n",
    "        return out\n"
   ]
  },
  {
   "cell_type": "code",
   "execution_count": 22,
   "metadata": {
    "id": "Pn_yeYSKbw6i"
   },
   "outputs": [
    {
     "name": "stdout",
     "output_type": "stream",
     "text": [
      "Epoch  1,  Training Loss:   41.7287, Training Accuracy:     68.66,  Test Accuracy:   65.79\n",
      "Epoch  2,  Training Loss:   35.9504, Training Accuracy:     76.33,  Test Accuracy:   72.32\n",
      "Epoch  3,  Training Loss:   30.3810, Training Accuracy:     79.70,  Test Accuracy:   74.79\n",
      "Epoch  4,  Training Loss:   47.0821, Training Accuracy:     70.55,  Test Accuracy:   66.61\n",
      "Epoch  5,  Training Loss:   32.8917, Training Accuracy:     80.02,  Test Accuracy:   76.02\n",
      "Epoch  6,  Training Loss:   28.7052, Training Accuracy:     79.52,  Test Accuracy:   75.08\n",
      "Epoch  7,  Training Loss:   28.8984, Training Accuracy:     81.17,  Test Accuracy:   75.15\n",
      "Epoch  8,  Training Loss:   29.1883, Training Accuracy:     83.51,  Test Accuracy:   78.96\n",
      "Epoch  9,  Training Loss:   26.2306, Training Accuracy:     85.48,  Test Accuracy:   79.60\n",
      "Epoch 10,  Training Loss:   25.3176, Training Accuracy:     81.74,  Test Accuracy:   75.23\n",
      "Epoch 11,  Training Loss:   29.3557, Training Accuracy:     66.06,  Test Accuracy:   60.30\n",
      "Epoch 12,  Training Loss:   31.7155, Training Accuracy:     83.68,  Test Accuracy:   77.29\n",
      "Epoch 13,  Training Loss:   23.6416, Training Accuracy:     86.29,  Test Accuracy:   78.54\n",
      "Epoch 14,  Training Loss:   20.4020, Training Accuracy:     88.06,  Test Accuracy:   81.15\n",
      "Epoch 15,  Training Loss:   18.8854, Training Accuracy:     83.02,  Test Accuracy:   73.67\n",
      "Epoch 16,  Training Loss:   17.5965, Training Accuracy:     90.92,  Test Accuracy:   84.20\n",
      "Epoch 17,  Training Loss:   14.6512, Training Accuracy:     92.74,  Test Accuracy:   83.99\n",
      "Epoch 18,  Training Loss:   13.7097, Training Accuracy:     93.28,  Test Accuracy:   83.72\n",
      "Epoch 19,  Training Loss:   12.4483, Training Accuracy:     94.44,  Test Accuracy:   85.12\n",
      "Epoch 20,  Training Loss:   11.3921, Training Accuracy:     94.56,  Test Accuracy:   85.04\n",
      "Elapsed Time :   91.92\n"
     ]
    }
   ],
   "source": [
    "# Hyperparameters\n",
    "VOCAB_SIZE = 10003  # 10000 words in the dictionary + <START>, <UNK>, <UNUNSED>\n",
    "EMBEDDING_DIM = 128\n",
    "HIDDEN_DIM1 = 128\n",
    "HIDDEN_DIM2 = 64\n",
    "nonlinearity = 'relu'\n",
    "learning_rate = 4e-4\n",
    "epoch = 20\n",
    "# Instantiate the model\n",
    "two_layer_rnn_relu = TwoLayerRNN(VOCAB_SIZE, EMBEDDING_DIM, HIDDEN_DIM1, HIDDEN_DIM2,nonlinearity=nonlinearity)\n",
    "loss_func = nn.CrossEntropyLoss()\n",
    "optimizer = optim.Adam(two_layer_rnn_relu.parameters(), lr=learning_rate)\n",
    "\n",
    "train_loss_two_rnn, train_acc_log_two_rnn, test_acc_log_two_rnn = train_model(two_layer_rnn_relu, loss_func, epoch, optimizer, trainloader, testloader)"
   ]
  },
  {
   "cell_type": "code",
   "execution_count": 23,
   "metadata": {
    "id": "SsbVUq0cbw6i"
   },
   "outputs": [],
   "source": [
    "class DeepRNN(nn.Module):\n",
    "    def __init__(self, vocab_size, embedding_dim, hidden_dim, num_layers=1, nonlinearity='relu', output_dim=2):\n",
    "        super().__init__()\n",
    "        self.embedding = nn.Embedding(vocab_size, embedding_dim) # Instead of using the pre-trained embeddings, such as Word2Vec, GloVe, let us train the embedding  by ourselves.\n",
    "        self.rnn = nn.RNN(embedding_dim, hidden_dim, num_layers=num_layers, nonlinearity=nonlinearity, batch_first=True) # We can also add dropout layers on the outputs of the RNN layers, by passing dropout argument to the RNN class\n",
    "        self.fc = nn.Linear(hidden_dim, output_dim)\n",
    "\n",
    "    def forward(self, text):\n",
    "        # text = [batch size, sent len]\n",
    "        embedded = self.embedding(text)\n",
    "        # embedded = [batch size, sent len, emb dim]\n",
    "        all_h, last_h = self.rnn(embedded)\n",
    "        # all_h = [batch size, sent len, last hid dim]\n",
    "        # last_h = [num_layers, batch size, last hid dim]\n",
    "        last_layer_h = last_h[-1,:,:]  # Get the last layer's hidden states for all batches, [batch size, hid dim]\n",
    "        # last_h = [batch size, hid dim]\n",
    "        out = self.fc(last_layer_h)\n",
    "        return out\n"
   ]
  },
  {
   "cell_type": "code",
   "execution_count": 24,
   "metadata": {
    "id": "eJW44tCrbw6i"
   },
   "outputs": [
    {
     "name": "stdout",
     "output_type": "stream",
     "text": [
      "Epoch  1,  Training Loss:   43.7239, Training Accuracy:     58.90,  Test Accuracy:   57.67\n",
      "Epoch  2,  Training Loss:   40.4905, Training Accuracy:     69.62,  Test Accuracy:   68.32\n",
      "Epoch  3,  Training Loss:   37.3096, Training Accuracy:     72.10,  Test Accuracy:   70.62\n",
      "Epoch  4,  Training Loss:   37.4584, Training Accuracy:     64.47,  Test Accuracy:   62.14\n",
      "Epoch  5,  Training Loss:   38.2913, Training Accuracy:     62.66,  Test Accuracy:   62.32\n",
      "Epoch  6,  Training Loss:   38.8433, Training Accuracy:     69.12,  Test Accuracy:   66.23\n",
      "Epoch  7,  Training Loss:   36.7984, Training Accuracy:     73.13,  Test Accuracy:   71.07\n",
      "Epoch  8,  Training Loss:   36.4134, Training Accuracy:     71.27,  Test Accuracy:   68.10\n",
      "Epoch  9,  Training Loss:   34.4103, Training Accuracy:     75.30,  Test Accuracy:   72.68\n",
      "Epoch 10,  Training Loss:   30.9758, Training Accuracy:     78.04,  Test Accuracy:   75.13\n",
      "Epoch 11,  Training Loss:   29.4091, Training Accuracy:     79.24,  Test Accuracy:   76.13\n",
      "Epoch 12,  Training Loss:   29.6514, Training Accuracy:     80.22,  Test Accuracy:   76.72\n",
      "Epoch 13,  Training Loss:   27.7066, Training Accuracy:     79.98,  Test Accuracy:   76.30\n",
      "Epoch 14,  Training Loss:   26.3741, Training Accuracy:     83.21,  Test Accuracy:   79.47\n",
      "Epoch 15,  Training Loss:   25.1735, Training Accuracy:     83.44,  Test Accuracy:   79.33\n",
      "Epoch 16,  Training Loss:   25.1529, Training Accuracy:     84.56,  Test Accuracy:   80.27\n",
      "Epoch 17,  Training Loss:   23.5009, Training Accuracy:     85.66,  Test Accuracy:   80.96\n",
      "Epoch 18,  Training Loss:   22.8349, Training Accuracy:     84.84,  Test Accuracy:   80.40\n",
      "Epoch 19,  Training Loss:   22.0909, Training Accuracy:     86.53,  Test Accuracy:   81.08\n",
      "Epoch 20,  Training Loss:   21.1058, Training Accuracy:     87.20,  Test Accuracy:   82.56\n",
      "Epoch 21,  Training Loss:   20.3102, Training Accuracy:     88.57,  Test Accuracy:   82.71\n",
      "Epoch 22,  Training Loss:   19.4788, Training Accuracy:     88.98,  Test Accuracy:   82.77\n",
      "Epoch 23,  Training Loss:   18.5110, Training Accuracy:     89.51,  Test Accuracy:   83.33\n",
      "Epoch 24,  Training Loss:   18.5690, Training Accuracy:     85.49,  Test Accuracy:   80.80\n",
      "Epoch 25,  Training Loss:   17.8543, Training Accuracy:     90.07,  Test Accuracy:   83.88\n",
      "Epoch 26,  Training Loss:   17.1305, Training Accuracy:     90.48,  Test Accuracy:   84.07\n",
      "Epoch 27,  Training Loss:   18.0046, Training Accuracy:     90.54,  Test Accuracy:   84.01\n",
      "Epoch 28,  Training Loss:   16.2350, Training Accuracy:     91.03,  Test Accuracy:   83.66\n",
      "Epoch 29,  Training Loss:   15.5877, Training Accuracy:     92.00,  Test Accuracy:   84.54\n",
      "Epoch 30,  Training Loss:   15.0547, Training Accuracy:     91.45,  Test Accuracy:   84.34\n",
      "Epoch 31,  Training Loss:   14.7209, Training Accuracy:     91.86,  Test Accuracy:   83.61\n",
      "Epoch 32,  Training Loss:   13.7669, Training Accuracy:     92.90,  Test Accuracy:   84.28\n",
      "Epoch 33,  Training Loss:   13.4257, Training Accuracy:     91.25,  Test Accuracy:   83.75\n",
      "Epoch 34,  Training Loss:   13.3065, Training Accuracy:     93.50,  Test Accuracy:   84.77\n",
      "Epoch 35,  Training Loss:   12.7806, Training Accuracy:     93.40,  Test Accuracy:   84.72\n",
      "Epoch 36,  Training Loss:   12.2540, Training Accuracy:     94.37,  Test Accuracy:   85.22\n",
      "Epoch 37,  Training Loss:   11.3573, Training Accuracy:     94.34,  Test Accuracy:   84.38\n",
      "Epoch 38,  Training Loss:   11.3025, Training Accuracy:     94.85,  Test Accuracy:   85.08\n",
      "Epoch 39,  Training Loss:   10.8803, Training Accuracy:     95.06,  Test Accuracy:   84.90\n",
      "Epoch 40,  Training Loss:   10.9158, Training Accuracy:     95.18,  Test Accuracy:   85.23\n",
      "Elapsed Time :  166.32\n"
     ]
    }
   ],
   "source": [
    "# Hyperparameters\n",
    "VOCAB_SIZE = 10003  # 10000 words in the dictionary + <START>, <UNK>, <UNUNSED>\n",
    "EMBEDDING_DIM = 128\n",
    "HIDDEN_DIM = 64\n",
    "num_layers = 3\n",
    "nonlinearity = 'tanh'\n",
    "learning_rate = 1e-4\n",
    "epoch = 40\n",
    "# Instantiate the model\n",
    "deep_rnn_relu = DeepRNN(VOCAB_SIZE, EMBEDDING_DIM, HIDDEN_DIM, num_layers=num_layers, nonlinearity=nonlinearity)\n",
    "loss_func = nn.CrossEntropyLoss()\n",
    "optimizer = optim.Adam(deep_rnn_relu.parameters(), lr=learning_rate)\n",
    "\n",
    "train_loss_deep_rnn, train_acc_log_deep_rnn, test_acc_log_deep_rnn = train_model(deep_rnn_relu, loss_func, epoch, optimizer, trainloader, testloader)"
   ]
  },
  {
   "cell_type": "code",
   "execution_count": 25,
   "metadata": {
    "id": "uKQzy5h3bw6i"
   },
   "outputs": [
    {
     "data": {
      "text/html": [
       "<div>\n",
       "<style scoped>\n",
       "    .dataframe tbody tr th:only-of-type {\n",
       "        vertical-align: middle;\n",
       "    }\n",
       "\n",
       "    .dataframe tbody tr th {\n",
       "        vertical-align: top;\n",
       "    }\n",
       "\n",
       "    .dataframe thead th {\n",
       "        text-align: right;\n",
       "    }\n",
       "</style>\n",
       "<table border=\"1\" class=\"dataframe\">\n",
       "  <thead>\n",
       "    <tr style=\"text-align: right;\">\n",
       "      <th></th>\n",
       "      <th>Logistic Regression</th>\n",
       "      <th>Simple RNN</th>\n",
       "      <th>Two Layer RNN</th>\n",
       "      <th>Deep RNN</th>\n",
       "    </tr>\n",
       "  </thead>\n",
       "  <tbody>\n",
       "    <tr>\n",
       "      <th>0</th>\n",
       "      <td>87.936</td>\n",
       "      <td>85.412</td>\n",
       "      <td>85.116</td>\n",
       "      <td>85.232</td>\n",
       "    </tr>\n",
       "  </tbody>\n",
       "</table>\n",
       "</div>"
      ],
      "text/plain": [
       "   Logistic Regression  Simple RNN  Two Layer RNN  Deep RNN\n",
       "0               87.936      85.412         85.116    85.232"
      ]
     },
     "execution_count": 25,
     "metadata": {},
     "output_type": "execute_result"
    }
   ],
   "source": [
    "# Compare the test accuracy of the three models as pandas dataframe\n",
    "\n",
    "import pandas as pd\n",
    "import matplotlib.pyplot as plt\n",
    "df = pd.DataFrame({'Logistic Regression':[round(log_reg_test_acc*100,3)],'Simple RNN': [max(test_acc_log_simple_rnn)], 'Two Layer RNN': [max(test_acc_log_two_rnn)], 'Deep RNN': [max(test_acc_log_deep_rnn)]})\n",
    "df"
   ]
  },
  {
   "cell_type": "code",
   "execution_count": null,
   "metadata": {
    "id": "Vfk2qph8GIJU"
   },
   "outputs": [],
   "source": []
  }
 ],
 "metadata": {
  "accelerator": "GPU",
  "colab": {
   "gpuType": "T4",
   "provenance": []
  },
  "kernelspec": {
   "display_name": "Python 3 (ipykernel)",
   "language": "python",
   "name": "python3"
  },
  "language_info": {
   "codemirror_mode": {
    "name": "ipython",
    "version": 3
   },
   "file_extension": ".py",
   "mimetype": "text/x-python",
   "name": "python",
   "nbconvert_exporter": "python",
   "pygments_lexer": "ipython3",
   "version": "3.12.9"
  }
 },
 "nbformat": 4,
 "nbformat_minor": 4
}
